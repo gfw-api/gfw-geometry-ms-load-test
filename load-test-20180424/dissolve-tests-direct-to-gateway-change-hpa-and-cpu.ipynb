{
 "cells": [
  {
   "cell_type": "markdown",
   "metadata": {},
   "source": [
    "### Background\n",
    "\n",
    "Tests were run using the npm loadtest module like so:\n",
    "\n",
    "\n",
    "`loadtest -c 200 --rps 200 -n 60000 -m POST http://35.231.236.14/api/v1/gfw-pro/polyIntersect/dissolve -p payload.json -T application/json`\n",
    "\n",
    "The above tests sends 200 requests per second to the dissolve endpoint, using a simple single-feature geojson feature collection as a test. The tests sends 60,000 requests in total, for an overall time of 5 minutes. All tests, regardless of request rate, were run for a total of five minutes.\n",
    "\n",
    "Load tests were run on an AWS server, and sent directly to the polyIntersect microservice, without going through the API gateway. The intent of these test was to evaluate any limitation caused by the CPU requirements of the dissolve functionality of the polyIntersect MS.\n",
    "\n",
    "Metrics were collected using loadtest summary stats - a full log is available in dissolve-notes.txt. The geometry used is in the root directory as payload.json\n",
    "\n",
    "#### Updated parameters for this test\n",
    "This test is different than the one run on 2018-04-23 because of the horizonal pod autoscaler (HPA) config. The previous run had the number of pods for the `/dissolve` MS between 2 and 3. The values for this run are between 50 and 70, and the CPU allocated to each pod has been doubled from 100m to 200m (0.1 of a CPU vs 0.2).\n",
    "\n",
    "Unlike previous tests, we did not test 1000 rps and 2000 rps benchmarks. Our goal for this test was to identify a combination of parameters that produced valid results for 500 rps. We're not quite there yet, but will continue to test."
   ]
  },
  {
   "cell_type": "code",
   "execution_count": 1,
   "metadata": {
    "collapsed": true
   },
   "outputs": [],
   "source": [
    "import pandas as pd"
   ]
  },
  {
   "cell_type": "code",
   "execution_count": 2,
   "metadata": {},
   "outputs": [
    {
     "data": {
      "text/html": [
       "<div>\n",
       "<style>\n",
       "    .dataframe thead tr:only-child th {\n",
       "        text-align: right;\n",
       "    }\n",
       "\n",
       "    .dataframe thead th {\n",
       "        text-align: left;\n",
       "    }\n",
       "\n",
       "    .dataframe tbody tr th {\n",
       "        vertical-align: top;\n",
       "    }\n",
       "</style>\n",
       "<table border=\"1\" class=\"dataframe\">\n",
       "  <thead>\n",
       "    <tr style=\"text-align: right;\">\n",
       "      <th></th>\n",
       "      <th>requests_per_second</th>\n",
       "      <th>peak_cpu</th>\n",
       "      <th>mean_latency</th>\n",
       "      <th>error_count</th>\n",
       "      <th>total_requests</th>\n",
       "      <th>error_pct</th>\n",
       "    </tr>\n",
       "  </thead>\n",
       "  <tbody>\n",
       "    <tr>\n",
       "      <th>0</th>\n",
       "      <td>50</td>\n",
       "      <td>49</td>\n",
       "      <td>0.1534</td>\n",
       "      <td>0</td>\n",
       "      <td>15000.0</td>\n",
       "      <td>0.0</td>\n",
       "    </tr>\n",
       "    <tr>\n",
       "      <th>1</th>\n",
       "      <td>100</td>\n",
       "      <td>29</td>\n",
       "      <td>0.0465</td>\n",
       "      <td>0</td>\n",
       "      <td>30000.0</td>\n",
       "      <td>0.0</td>\n",
       "    </tr>\n",
       "    <tr>\n",
       "      <th>2</th>\n",
       "      <td>200</td>\n",
       "      <td>65</td>\n",
       "      <td>0.0488</td>\n",
       "      <td>0</td>\n",
       "      <td>60000.0</td>\n",
       "      <td>0.0</td>\n",
       "    </tr>\n",
       "    <tr>\n",
       "      <th>3</th>\n",
       "      <td>500</td>\n",
       "      <td>99</td>\n",
       "      <td>10.6303</td>\n",
       "      <td>150000</td>\n",
       "      <td>NaN</td>\n",
       "      <td>NaN</td>\n",
       "    </tr>\n",
       "  </tbody>\n",
       "</table>\n",
       "</div>"
      ],
      "text/plain": [
       "   requests_per_second  peak_cpu  mean_latency  error_count  total_requests  \\\n",
       "0                   50        49        0.1534            0         15000.0   \n",
       "1                  100        29        0.0465            0         30000.0   \n",
       "2                  200        65        0.0488            0         60000.0   \n",
       "3                  500        99       10.6303       150000             NaN   \n",
       "\n",
       "   error_pct  \n",
       "0        0.0  \n",
       "1        0.0  \n",
       "2        0.0  \n",
       "3        NaN  "
      ]
     },
     "execution_count": 2,
     "metadata": {},
     "output_type": "execute_result"
    }
   ],
   "source": [
    "df = pd.read_csv('dissolve_results_50_to_70_CPU_200m.csv')\n",
    "\n",
    "# calculate error percent\n",
    "df['error_pct'] = (df.error_count / df.total_requests) * 100\n",
    "\n",
    "# report mean latency in seconds, not milliseconds\n",
    "df['mean_latency'] = df.mean_latency / 1000\n",
    "\n",
    "df"
   ]
  },
  {
   "cell_type": "code",
   "execution_count": 3,
   "metadata": {},
   "outputs": [
    {
     "data": {
      "text/plain": [
       "<matplotlib.axes._subplots.AxesSubplot at 0x10aa1f350>"
      ]
     },
     "execution_count": 3,
     "metadata": {},
     "output_type": "execute_result"
    },
    {
     "data": {
      "image/png": "[encoded data removed]",
      "text/plain": [
       "<matplotlib.figure.Figure at 0x10a9b3c90>"
      ]
     },
     "metadata": {},
     "output_type": "display_data"
    }
   ],
   "source": [
    "%matplotlib inline\n",
    "df.plot(x=\"requests_per_second\", y=[\"error_pct\", \"peak_cpu\"], kind=\"bar\")"
   ]
  },
  {
   "cell_type": "code",
   "execution_count": 4,
   "metadata": {},
   "outputs": [
    {
     "data": {
      "text/plain": [
       "<matplotlib.axes._subplots.AxesSubplot at 0x109f1cb90>"
      ]
     },
     "execution_count": 4,
     "metadata": {},
     "output_type": "execute_result"
    },
    {
     "data": {
      "image/png": "[encoded data removed]",
      "text/plain": [
       "<matplotlib.figure.Figure at 0x10aa46a10>"
      ]
     },
     "metadata": {},
     "output_type": "display_data"
    }
   ],
   "source": [
    "df.plot(x=\"requests_per_second\", y=\"mean_latency\", kind=\"bar\")"
   ]
  },
  {
   "cell_type": "markdown",
   "metadata": {},
   "source": [
    "#### Analysis\n",
    "\n",
    "Compared to yesterday's run with the dissolve pods between 2 and 3, the 500 requests per second mean latency is much better. Yesterday's was 40 seconds, today's is 10.6 seconds. Not bad.\n",
    "\n",
    "More work needs to be done to determine the minimum number of pods that we need ready at all times. Kube can certainly scale these pods, but if our work is to be done in 5 minute increments, it may not be able to scale it fast enough.\n",
    "\n",
    "I'm also unsure when kube takes the minReplica parameter into account. I set it up 70 at one point, but we still only had 59 pods deployed. How does this work? To be continued . . . "
   ]
  }
 ],
 "metadata": {
  "kernelspec": {
   "display_name": "Python 2",
   "language": "python",
   "name": "python2"
  },
  "language_info": {
   "codemirror_mode": {
    "name": "ipython",
    "version": 2
   },
   "file_extension": ".py",
   "mimetype": "text/x-python",
   "name": "python",
   "nbconvert_exporter": "python",
   "pygments_lexer": "ipython2",
   "version": "2.7.14"
  }
 },
 "nbformat": 4,
 "nbformat_minor": 2
}
