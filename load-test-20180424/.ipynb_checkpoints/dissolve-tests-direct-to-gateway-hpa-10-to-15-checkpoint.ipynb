{
 "cells": [
  {
   "cell_type": "markdown",
   "metadata": {},
   "source": [
    "### Background\n",
    "\n",
    "Tests were run using the npm loadtest module like so:\n",
    "\n",
    "\n",
    "`loadtest -c 200 --rps 200 -n 60000 -m POST http://35.231.236.14/api/v1/gfw-pro/polyIntersect/dissolve -p payload.json -T application/json`\n",
    "\n",
    "The above tests sends 200 requests per second to the dissolve endpoint, using a simple single-feature geojson feature collection as a test. The tests sends 60,000 requests in total, for an overall time of 5 minutes. All tests, regardless of request rate, were run for a total of five minutes.\n",
    "\n",
    "Load tests were run on an AWS server, and sent directly to the polyIntersect microservice, without going through the API gateway. The intent of these test was to evaluate any limitation caused by the CPU requirements of the dissolve functionality of the polyIntersect MS.\n",
    "\n",
    "Metrics were collected using loadtest summary stats - a full log is available in dissolve-notes.txt. The geometry used is in the root directory as payload.json\n",
    "\n",
    "#### Updated parameters for this test\n",
    "This test is different than the one run on 2018-04-23 because of the horizonal pod autoscaler (HPA) config. The previous run had the number of pods for the `/dissolve` MS between 2 and 3. The values for this run are between 10 and 15."
   ]
  },
  {
   "cell_type": "code",
   "execution_count": 1,
   "metadata": {
    "collapsed": true
   },
   "outputs": [],
   "source": [
    "import pandas as pd"
   ]
  },
  {
   "cell_type": "code",
   "execution_count": 2,
   "metadata": {},
   "outputs": [
    {
     "data": {
      "text/html": [
       "<div>\n",
       "<style>\n",
       "    .dataframe thead tr:only-child th {\n",
       "        text-align: right;\n",
       "    }\n",
       "\n",
       "    .dataframe thead th {\n",
       "        text-align: left;\n",
       "    }\n",
       "\n",
       "    .dataframe tbody tr th {\n",
       "        vertical-align: top;\n",
       "    }\n",
       "</style>\n",
       "<table border=\"1\" class=\"dataframe\">\n",
       "  <thead>\n",
       "    <tr style=\"text-align: right;\">\n",
       "      <th></th>\n",
       "      <th>requests_per_second</th>\n",
       "      <th>peak_cpu</th>\n",
       "      <th>mean_latency</th>\n",
       "      <th>error_count</th>\n",
       "      <th>total_requests</th>\n",
       "      <th>error_pct</th>\n",
       "    </tr>\n",
       "  </thead>\n",
       "  <tbody>\n",
       "    <tr>\n",
       "      <th>0</th>\n",
       "      <td>50</td>\n",
       "      <td>31.0</td>\n",
       "      <td>0.0620</td>\n",
       "      <td>0</td>\n",
       "      <td>15000</td>\n",
       "      <td>0.000000</td>\n",
       "    </tr>\n",
       "    <tr>\n",
       "      <th>1</th>\n",
       "      <td>100</td>\n",
       "      <td>63.8</td>\n",
       "      <td>0.0581</td>\n",
       "      <td>3</td>\n",
       "      <td>30000</td>\n",
       "      <td>0.010000</td>\n",
       "    </tr>\n",
       "    <tr>\n",
       "      <th>2</th>\n",
       "      <td>200</td>\n",
       "      <td>97.6</td>\n",
       "      <td>1.1091</td>\n",
       "      <td>11</td>\n",
       "      <td>60000</td>\n",
       "      <td>0.018333</td>\n",
       "    </tr>\n",
       "    <tr>\n",
       "      <th>3</th>\n",
       "      <td>500</td>\n",
       "      <td>99.3</td>\n",
       "      <td>38.4778</td>\n",
       "      <td>74471</td>\n",
       "      <td>150000</td>\n",
       "      <td>49.647333</td>\n",
       "    </tr>\n",
       "    <tr>\n",
       "      <th>4</th>\n",
       "      <td>1000</td>\n",
       "      <td>99.2</td>\n",
       "      <td>41.4663</td>\n",
       "      <td>183888</td>\n",
       "      <td>300000</td>\n",
       "      <td>61.296000</td>\n",
       "    </tr>\n",
       "    <tr>\n",
       "      <th>5</th>\n",
       "      <td>2000</td>\n",
       "      <td>99.3</td>\n",
       "      <td>43.5424</td>\n",
       "      <td>384874</td>\n",
       "      <td>600000</td>\n",
       "      <td>64.145667</td>\n",
       "    </tr>\n",
       "  </tbody>\n",
       "</table>\n",
       "</div>"
      ],
      "text/plain": [
       "   requests_per_second  peak_cpu  mean_latency  error_count  total_requests  \\\n",
       "0                   50      31.0        0.0620            0           15000   \n",
       "1                  100      63.8        0.0581            3           30000   \n",
       "2                  200      97.6        1.1091           11           60000   \n",
       "3                  500      99.3       38.4778        74471          150000   \n",
       "4                 1000      99.2       41.4663       183888          300000   \n",
       "5                 2000      99.3       43.5424       384874          600000   \n",
       "\n",
       "   error_pct  \n",
       "0   0.000000  \n",
       "1   0.010000  \n",
       "2   0.018333  \n",
       "3  49.647333  \n",
       "4  61.296000  \n",
       "5  64.145667  "
      ]
     },
     "execution_count": 2,
     "metadata": {},
     "output_type": "execute_result"
    }
   ],
   "source": [
    "df = pd.read_csv('dissolve_results.csv')\n",
    "\n",
    "# calculate error percent\n",
    "df['error_pct'] = (df.error_count / df.total_requests) * 100\n",
    "\n",
    "# report mean latency in seconds, not milliseconds\n",
    "df['mean_latency'] = df.mean_latency / 1000\n",
    "\n",
    "df"
   ]
  },
  {
   "cell_type": "code",
   "execution_count": 3,
   "metadata": {},
   "outputs": [
    {
     "data": {
      "text/plain": [
       "<matplotlib.axes._subplots.AxesSubplot at 0x11470c410>"
      ]
     },
     "execution_count": 3,
     "metadata": {},
     "output_type": "execute_result"
    },
    {
     "data": {
      "image/png": "[encoded data removed]",
      "text/plain": [
       "<matplotlib.figure.Figure at 0x1146f3d10>"
      ]
     },
     "metadata": {},
     "output_type": "display_data"
    }
   ],
   "source": [
    "%matplotlib inline\n",
    "df.plot(x=\"requests_per_second\", y=[\"error_pct\", \"peak_cpu\"], kind=\"bar\")"
   ]
  },
  {
   "cell_type": "code",
   "execution_count": 4,
   "metadata": {},
   "outputs": [
    {
     "data": {
      "text/plain": [
       "<matplotlib.axes._subplots.AxesSubplot at 0x11477f910>"
      ]
     },
     "execution_count": 4,
     "metadata": {},
     "output_type": "execute_result"
    },
    {
     "data": {
      "image/png": "[encoded data removed]",
      "text/plain": [
       "<matplotlib.figure.Figure at 0x113c09c50>"
      ]
     },
     "metadata": {},
     "output_type": "display_data"
    }
   ],
   "source": [
    "df.plot(x=\"requests_per_second\", y=\"mean_latency\", kind=\"bar\")"
   ]
  },
  {
   "cell_type": "markdown",
   "metadata": {},
   "source": [
    "#### Analysis\n",
    "\n",
    "Compared to yesterday's run with the dissolve pods between 2 and 3, the 200 requests per second mean latency is much better. Yesterday's was 11 seconds, today's is 1.1 seconds. Not bad.\n",
    "\n",
    "Looking at the results on stackdriver, we're still only using two nodes (virtual machines) to run these microservices. Given that each node has ~4 CPUs and 15 GB of ram, I'm surprised that the kube autoscaler isn't kicking in and adding more nodes to the pool.\n",
    "\n",
    "Assuming one pod per CPU, and that we have a min of 10 pods (per hpa.yaml), and 8 CPUs total (2 nodes * 4 each) I would assume kube would create a new node to add additional pods. Why isn't this happening?"
   ]
  }
 ],
 "metadata": {
  "kernelspec": {
   "display_name": "Python 2",
   "language": "python",
   "name": "python2"
  },
  "language_info": {
   "codemirror_mode": {
    "name": "ipython",
    "version": 2
   },
   "file_extension": ".py",
   "mimetype": "text/x-python",
   "name": "python",
   "nbconvert_exporter": "python",
   "pygments_lexer": "ipython2",
   "version": "2.7.14"
  }
 },
 "nbformat": 4,
 "nbformat_minor": 2
}
