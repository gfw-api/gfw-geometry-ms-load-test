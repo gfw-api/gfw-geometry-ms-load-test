{
 "cells": [
  {
   "cell_type": "markdown",
   "metadata": {},
   "source": [
    "### Background\n",
    "\n",
    "Tests were run using the npm loadtest module like so:\n",
    "\n",
    "\n",
    "`loadtest -c 200 --rps 200 -n 60000 -m POST http://35.231.236.14/api/v1/gfw-pro/polyIntersect/dissolve -p payload.json -T application/json`\n",
    "\n",
    "The above tests sends 200 requests per second to the dissolve endpoint, using a simple single-feature geojson feature collection as a test. The tests sends 60,000 requests in total, for an overall time of 5 minutes. All tests, regardless of request rate, were run for a total of five minutes.\n",
    "\n",
    "Load tests were run on an AWS server, and sent directly to the polyIntersect microservice, without going through the API gateway. The intent of these test was to evaluate any limitation caused by the CPU requirements of the dissolve functionality of the polyIntersect MS.\n",
    "\n",
    "Metrics were collected using loadtest summary stats - a full log is available in dissolve-notes.txt. The geometry used is in the root directory as payload.json"
   ]
  },
  {
   "cell_type": "code",
   "execution_count": 1,
   "metadata": {
    "collapsed": true
   },
   "outputs": [],
   "source": [
    "import pandas as pd"
   ]
  },
  {
   "cell_type": "code",
   "execution_count": 17,
   "metadata": {},
   "outputs": [
    {
     "data": {
      "text/html": [
       "<div>\n",
       "<style>\n",
       "    .dataframe thead tr:only-child th {\n",
       "        text-align: right;\n",
       "    }\n",
       "\n",
       "    .dataframe thead th {\n",
       "        text-align: left;\n",
       "    }\n",
       "\n",
       "    .dataframe tbody tr th {\n",
       "        vertical-align: top;\n",
       "    }\n",
       "</style>\n",
       "<table border=\"1\" class=\"dataframe\">\n",
       "  <thead>\n",
       "    <tr style=\"text-align: right;\">\n",
       "      <th></th>\n",
       "      <th>requests_per_second</th>\n",
       "      <th>peak_cpu</th>\n",
       "      <th>mean_latency</th>\n",
       "      <th>error_count</th>\n",
       "      <th>total_requests</th>\n",
       "      <th>error_pct</th>\n",
       "    </tr>\n",
       "  </thead>\n",
       "  <tbody>\n",
       "    <tr>\n",
       "      <th>0</th>\n",
       "      <td>50</td>\n",
       "      <td>29.5</td>\n",
       "      <td>0.0451</td>\n",
       "      <td>0</td>\n",
       "      <td>15000</td>\n",
       "      <td>0.000000</td>\n",
       "    </tr>\n",
       "    <tr>\n",
       "      <th>1</th>\n",
       "      <td>100</td>\n",
       "      <td>74.3</td>\n",
       "      <td>0.0967</td>\n",
       "      <td>7</td>\n",
       "      <td>30000</td>\n",
       "      <td>0.023333</td>\n",
       "    </tr>\n",
       "    <tr>\n",
       "      <th>2</th>\n",
       "      <td>200</td>\n",
       "      <td>99.2</td>\n",
       "      <td>11.0410</td>\n",
       "      <td>2525</td>\n",
       "      <td>60000</td>\n",
       "      <td>4.208333</td>\n",
       "    </tr>\n",
       "    <tr>\n",
       "      <th>3</th>\n",
       "      <td>500</td>\n",
       "      <td>98.7</td>\n",
       "      <td>40.6750</td>\n",
       "      <td>89705</td>\n",
       "      <td>150000</td>\n",
       "      <td>59.803333</td>\n",
       "    </tr>\n",
       "    <tr>\n",
       "      <th>4</th>\n",
       "      <td>1000</td>\n",
       "      <td>99.2</td>\n",
       "      <td>41.7804</td>\n",
       "      <td>208434</td>\n",
       "      <td>300000</td>\n",
       "      <td>69.478000</td>\n",
       "    </tr>\n",
       "    <tr>\n",
       "      <th>5</th>\n",
       "      <td>2000</td>\n",
       "      <td>98.3</td>\n",
       "      <td>39.3586</td>\n",
       "      <td>452966</td>\n",
       "      <td>600000</td>\n",
       "      <td>75.494333</td>\n",
       "    </tr>\n",
       "  </tbody>\n",
       "</table>\n",
       "</div>"
      ],
      "text/plain": [
       "   requests_per_second  peak_cpu  mean_latency  error_count  total_requests  \\\n",
       "0                   50      29.5        0.0451            0           15000   \n",
       "1                  100      74.3        0.0967            7           30000   \n",
       "2                  200      99.2       11.0410         2525           60000   \n",
       "3                  500      98.7       40.6750        89705          150000   \n",
       "4                 1000      99.2       41.7804       208434          300000   \n",
       "5                 2000      98.3       39.3586       452966          600000   \n",
       "\n",
       "   error_pct  \n",
       "0   0.000000  \n",
       "1   0.023333  \n",
       "2   4.208333  \n",
       "3  59.803333  \n",
       "4  69.478000  \n",
       "5  75.494333  "
      ]
     },
     "execution_count": 17,
     "metadata": {},
     "output_type": "execute_result"
    }
   ],
   "source": [
    "df = pd.read_csv('dissolve_results.csv')\n",
    "\n",
    "# calculate error percent\n",
    "df['error_pct'] = (df.error_count / df.total_requests) * 100\n",
    "\n",
    "# report mean latency in seconds, not milliseconds\n",
    "df['mean_latency'] = df.mean_latency / 1000\n",
    "\n",
    "df"
   ]
  },
  {
   "cell_type": "code",
   "execution_count": 15,
   "metadata": {},
   "outputs": [
    {
     "data": {
      "text/plain": [
       "<matplotlib.axes._subplots.AxesSubplot at 0x10c94ca90>"
      ]
     },
     "execution_count": 15,
     "metadata": {},
     "output_type": "execute_result"
    },
    {
     "data": {
      "image/png": "[encoded data removed]",
      "text/plain": [
       "<matplotlib.figure.Figure at 0x10c838a10>"
      ]
     },
     "metadata": {},
     "output_type": "display_data"
    }
   ],
   "source": [
    "%matplotlib inline\n",
    "df.plot(x=\"requests_per_second\", y=[\"error_pct\", \"peak_cpu\"], kind=\"bar\")"
   ]
  },
  {
   "cell_type": "code",
   "execution_count": 16,
   "metadata": {},
   "outputs": [
    {
     "data": {
      "text/plain": [
       "<matplotlib.axes._subplots.AxesSubplot at 0x10c97f490>"
      ]
     },
     "execution_count": 16,
     "metadata": {},
     "output_type": "execute_result"
    },
    {
     "data": {
      "image/png": "[encoded data removed]",
      "text/plain": [
       "<matplotlib.figure.Figure at 0x10c960690>"
      ]
     },
     "metadata": {},
     "output_type": "display_data"
    }
   ],
   "source": [
    "df.plot(x=\"requests_per_second\", y=\"mean_latency\", kind=\"bar\")"
   ]
  }
 ],
 "metadata": {
  "kernelspec": {
   "display_name": "Python 2",
   "language": "python",
   "name": "python2"
  },
  "language_info": {
   "codemirror_mode": {
    "name": "ipython",
    "version": 2
   },
   "file_extension": ".py",
   "mimetype": "text/x-python",
   "name": "python",
   "nbconvert_exporter": "python",
   "pygments_lexer": "ipython2",
   "version": "2.7.14"
  }
 },
 "nbformat": 4,
 "nbformat_minor": 2
}
